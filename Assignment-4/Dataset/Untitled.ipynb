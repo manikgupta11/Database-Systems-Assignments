{
 "cells": [
  {
   "cell_type": "code",
   "execution_count": 2,
   "metadata": {},
   "outputs": [],
   "source": [
    "import numpy as np\n",
    "import pandas as pd"
   ]
  },
  {
   "cell_type": "code",
   "execution_count": 3,
   "metadata": {},
   "outputs": [
    {
     "data": {
      "text/html": [
       "<div>\n",
       "<style scoped>\n",
       "    .dataframe tbody tr th:only-of-type {\n",
       "        vertical-align: middle;\n",
       "    }\n",
       "\n",
       "    .dataframe tbody tr th {\n",
       "        vertical-align: top;\n",
       "    }\n",
       "\n",
       "    .dataframe thead th {\n",
       "        text-align: right;\n",
       "    }\n",
       "</style>\n",
       "<table border=\"1\" class=\"dataframe\">\n",
       "  <thead>\n",
       "    <tr style=\"text-align: right;\">\n",
       "      <th></th>\n",
       "      <th>ID</th>\n",
       "      <th>TYPE</th>\n",
       "      <th>NAME</th>\n",
       "      <th>LATITUDE</th>\n",
       "      <th>LONGITUDE</th>\n",
       "      <th>COUNTRY</th>\n",
       "      <th>REGION</th>\n",
       "    </tr>\n",
       "  </thead>\n",
       "  <tbody>\n",
       "    <tr>\n",
       "      <th>0</th>\n",
       "      <td>6523</td>\n",
       "      <td>heliport</td>\n",
       "      <td>Total Rf Heliport</td>\n",
       "      <td>40</td>\n",
       "      <td>-75</td>\n",
       "      <td>US</td>\n",
       "      <td>US-PA</td>\n",
       "    </tr>\n",
       "    <tr>\n",
       "      <th>1</th>\n",
       "      <td>6524</td>\n",
       "      <td>small_airport</td>\n",
       "      <td>Lowell Field</td>\n",
       "      <td>60</td>\n",
       "      <td>-152</td>\n",
       "      <td>US</td>\n",
       "      <td>US-AK</td>\n",
       "    </tr>\n",
       "    <tr>\n",
       "      <th>2</th>\n",
       "      <td>6525</td>\n",
       "      <td>small_airport</td>\n",
       "      <td>Epps Airpark</td>\n",
       "      <td>35</td>\n",
       "      <td>-87</td>\n",
       "      <td>US</td>\n",
       "      <td>US-AL</td>\n",
       "    </tr>\n",
       "    <tr>\n",
       "      <th>3</th>\n",
       "      <td>6526</td>\n",
       "      <td>heliport</td>\n",
       "      <td>Newport Hospital &amp; Clinic Heliport</td>\n",
       "      <td>36</td>\n",
       "      <td>-91</td>\n",
       "      <td>US</td>\n",
       "      <td>US-AR</td>\n",
       "    </tr>\n",
       "    <tr>\n",
       "      <th>4</th>\n",
       "      <td>6527</td>\n",
       "      <td>small_airport</td>\n",
       "      <td>Cordes Airport</td>\n",
       "      <td>34</td>\n",
       "      <td>-112</td>\n",
       "      <td>US</td>\n",
       "      <td>US-AZ</td>\n",
       "    </tr>\n",
       "    <tr>\n",
       "      <th>5</th>\n",
       "      <td>6528</td>\n",
       "      <td>small_airport</td>\n",
       "      <td>Goldstone /Gts/ Airport</td>\n",
       "      <td>35</td>\n",
       "      <td>-117</td>\n",
       "      <td>US</td>\n",
       "      <td>US-CA</td>\n",
       "    </tr>\n",
       "    <tr>\n",
       "      <th>6</th>\n",
       "      <td>6529</td>\n",
       "      <td>small_airport</td>\n",
       "      <td>Cass Field</td>\n",
       "      <td>41</td>\n",
       "      <td>-104</td>\n",
       "      <td>US</td>\n",
       "      <td>US-CO</td>\n",
       "    </tr>\n",
       "    <tr>\n",
       "      <th>7</th>\n",
       "      <td>6531</td>\n",
       "      <td>small_airport</td>\n",
       "      <td>Grass Patch Airport</td>\n",
       "      <td>29</td>\n",
       "      <td>-82</td>\n",
       "      <td>US</td>\n",
       "      <td>US-FL</td>\n",
       "    </tr>\n",
       "    <tr>\n",
       "      <th>8</th>\n",
       "      <td>6532</td>\n",
       "      <td>heliport</td>\n",
       "      <td>Ringhaver Heliport</td>\n",
       "      <td>29</td>\n",
       "      <td>-82</td>\n",
       "      <td>US</td>\n",
       "      <td>US-FL</td>\n",
       "    </tr>\n",
       "    <tr>\n",
       "      <th>9</th>\n",
       "      <td>6533</td>\n",
       "      <td>small_airport</td>\n",
       "      <td>River Oak Airport</td>\n",
       "      <td>27</td>\n",
       "      <td>-81</td>\n",
       "      <td>US</td>\n",
       "      <td>US-FL</td>\n",
       "    </tr>\n",
       "  </tbody>\n",
       "</table>\n",
       "</div>"
      ],
      "text/plain": [
       "     ID           TYPE                                NAME  LATITUDE  \\\n",
       "0  6523       heliport                   Total Rf Heliport        40   \n",
       "1  6524  small_airport                        Lowell Field        60   \n",
       "2  6525  small_airport                        Epps Airpark        35   \n",
       "3  6526       heliport  Newport Hospital & Clinic Heliport        36   \n",
       "4  6527  small_airport                      Cordes Airport        34   \n",
       "5  6528  small_airport             Goldstone /Gts/ Airport        35   \n",
       "6  6529  small_airport                          Cass Field        41   \n",
       "7  6531  small_airport                 Grass Patch Airport        29   \n",
       "8  6532       heliport                  Ringhaver Heliport        29   \n",
       "9  6533  small_airport                   River Oak Airport        27   \n",
       "\n",
       "   LONGITUDE COUNTRY REGION  \n",
       "0        -75      US  US-PA  \n",
       "1       -152      US  US-AK  \n",
       "2        -87      US  US-AL  \n",
       "3        -91      US  US-AR  \n",
       "4       -112      US  US-AZ  \n",
       "5       -117      US  US-CA  \n",
       "6       -104      US  US-CO  \n",
       "7        -82      US  US-FL  \n",
       "8        -82      US  US-FL  \n",
       "9        -81      US  US-FL  "
      ]
     },
     "execution_count": 3,
     "metadata": {},
     "output_type": "execute_result"
    }
   ],
   "source": [
    "df=pd.read_csv(\"airports.csv\")\n",
    "df.head(n=10)"
   ]
  },
  {
   "cell_type": "code",
   "execution_count": 4,
   "metadata": {},
   "outputs": [
    {
     "name": "stdout",
     "output_type": "stream",
     "text": [
      "<class 'pandas.core.frame.DataFrame'>\n",
      "RangeIndex: 44874 entries, 0 to 44873\n",
      "Data columns (total 7 columns):\n",
      " #   Column     Non-Null Count  Dtype \n",
      "---  ------     --------------  ----- \n",
      " 0   ID         44874 non-null  int64 \n",
      " 1   TYPE       44874 non-null  object\n",
      " 2   NAME       44873 non-null  object\n",
      " 3   LATITUDE   44874 non-null  int64 \n",
      " 4   LONGITUDE  44874 non-null  int64 \n",
      " 5   COUNTRY    44654 non-null  object\n",
      " 6   REGION     44874 non-null  object\n",
      "dtypes: int64(3), object(4)\n",
      "memory usage: 2.4+ MB\n"
     ]
    }
   ],
   "source": [
    "df.info()"
   ]
  },
  {
   "cell_type": "code",
   "execution_count": 20,
   "metadata": {},
   "outputs": [
    {
     "data": {
      "text/plain": [
       "(243,)"
      ]
     },
     "execution_count": 20,
     "metadata": {},
     "output_type": "execute_result"
    }
   ],
   "source": [
    "df['COUNTRY'].unique().shape"
   ]
  },
  {
   "cell_type": "code",
   "execution_count": 27,
   "metadata": {},
   "outputs": [
    {
     "data": {
      "text/plain": [
       "(12589, 7)"
      ]
     },
     "execution_count": 27,
     "metadata": {},
     "output_type": "execute_result"
    }
   ],
   "source": [
    "df[(df['LATITUDE']>=10) & (df['LATITUDE']<=90) & (df['LONGITUDE']>=-90)  & (df['LONGITUDE']<=-10) ].shape"
   ]
  },
  {
   "cell_type": "code",
   "execution_count": null,
   "metadata": {},
   "outputs": [],
   "source": []
  }
 ],
 "metadata": {
  "kernelspec": {
   "display_name": "Python 3",
   "language": "python",
   "name": "python3"
  },
  "language_info": {
   "codemirror_mode": {
    "name": "ipython",
    "version": 3
   },
   "file_extension": ".py",
   "mimetype": "text/x-python",
   "name": "python",
   "nbconvert_exporter": "python",
   "pygments_lexer": "ipython3",
   "version": "3.6.9"
  }
 },
 "nbformat": 4,
 "nbformat_minor": 4
}
